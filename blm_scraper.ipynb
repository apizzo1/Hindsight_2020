{
 "cells": [
  {
   "cell_type": "code",
   "execution_count": null,
   "metadata": {},
   "outputs": [],
   "source": [
    "#dependencies\n",
    "from splinter import Browser\n",
    "from bs4 import BeautifulSoup as bs\n",
    "import requests\n",
    "import pandas as pd\n",
    "import time"
   ]
  },
  {
   "cell_type": "code",
   "execution_count": 14,
   "metadata": {},
   "outputs": [
    {
     "name": "stdout",
     "output_type": "stream",
     "text": [
      "<div class=\"item-protest-location\">Normal, IL</div>\n",
      "<div class=\"item-protest-location\">Louisville, KY</div>\n",
      "<div class=\"item-protest-location\">Washington, DC</div>\n",
      "<div class=\"item-protest-location\">Minneapolis, MN</div>\n",
      "<div class=\"item-protest-location\">Fayetteville, NC</div>\n",
      "<div class=\"item-protest-location\">Louisville, KY</div>\n",
      "<div class=\"item-protest-location\">Richmond, VA</div>\n",
      "<div class=\"item-protest-location\">Minneapolis, MN</div>\n",
      "<div class=\"item-protest-location\">Ithaca, NY</div>\n",
      "<div class=\"item-protest-location\">Augusta, ME</div>\n",
      "<div class=\"item-protest-location\">Poughkeepsie, NY</div>\n",
      "<div class=\"item-protest-location\">Pawleys Island, SC</div>\n",
      "<div class=\"item-protest-location\">Kenosha, WI - Minneapolis, MN</div>\n",
      "<div class=\"item-protest-location\">Rio Rancho, NM</div>\n",
      "<div class=\"item-protest-location\">Rio Rancho, NM</div>\n",
      "<div class=\"item-protest-location\">Cloudcroft, NM</div>\n",
      "<div class=\"item-protest-location\">West Lafayette, IN</div>\n",
      "<div class=\"item-protest-location\">Los Angeles, CA</div>\n",
      "<div class=\"item-protest-location\">Capitol Heights, MD</div>\n",
      "<div class=\"item-protest-location\">Miami, FL</div>\n"
     ]
    },
    {
     "ename": "AttributeError",
     "evalue": "'WebDriver' object has no attribute 'find'",
     "output_type": "error",
     "traceback": [
      "\u001b[1;31m---------------------------------------------------------------------------\u001b[0m",
      "\u001b[1;31mAttributeError\u001b[0m                            Traceback (most recent call last)",
      "\u001b[1;32m<ipython-input-14-820c352937bf>\u001b[0m in \u001b[0;36m<module>\u001b[1;34m\u001b[0m\n\u001b[0;32m     27\u001b[0m         \u001b[0mprint\u001b[0m \u001b[1;33m(\u001b[0m\u001b[0mlocation\u001b[0m\u001b[1;33m)\u001b[0m\u001b[1;33m\u001b[0m\u001b[1;33m\u001b[0m\u001b[0m\n\u001b[0;32m     28\u001b[0m \u001b[1;33m\u001b[0m\u001b[0m\n\u001b[1;32m---> 29\u001b[1;33m     \u001b[0mbrowser\u001b[0m\u001b[1;33m.\u001b[0m\u001b[0mfind\u001b[0m \u001b[1;33m(\u001b[0m\u001b[1;34m'li'\u001b[0m\u001b[1;33m,\u001b[0m \u001b[0mclass_\u001b[0m\u001b[1;33m=\u001b[0m \u001b[1;34m'inactive'\u001b[0m\u001b[1;33m)\u001b[0m\u001b[1;33m.\u001b[0m\u001b[0mfirst\u001b[0m\u001b[1;33m.\u001b[0m\u001b[0mclick\u001b[0m\u001b[1;33m(\u001b[0m\u001b[1;33m)\u001b[0m\u001b[1;33m\u001b[0m\u001b[1;33m\u001b[0m\u001b[0m\n\u001b[0m",
      "\u001b[1;31mAttributeError\u001b[0m: 'WebDriver' object has no attribute 'find'"
     ]
    }
   ],
   "source": [
    "#set up splinter\n",
    "executable_path = {'executable_path': 'C:/Users/maria/Documents/2020 GT data analytics/chromedriver_win32/chromedriver.exe'}\n",
    "browser = Browser('chrome', **executable_path, headless=False)\n",
    "\n",
    "#visit site documenting protests, delay 5 seconds before scraping to allow page to load\n",
    "protest_url = \"https://elephrame.com/textbook/BLM\"\n",
    "browser.visit(protest_url)\n",
    "time.sleep(5)\n",
    "\n",
    "#create soup object\n",
    "html = browser.html\n",
    "soup = bs(html, 'html.parser')\n",
    "\n",
    "#soup\n",
    "\n",
    "#loop through all protests\n",
    "for x in range(1, 118):\n",
    "\n",
    "    html = browser.html\n",
    "    soup = bs (html, 'html.parser')\n",
    "\n",
    "    location = soup.find_all('div', class_='item-protest-location')\n",
    "    start_date = soup.find_all('div', class_='item-protest-location')\n",
    "    end_date = soup.find_all('div', class_='item-protest-location')\n",
    "    \n",
    "    for location in locations:\n",
    "        print (location)\n",
    "    \n",
    "    # not sure how to click the button that has no link or text\n",
    "    browser.find ('li', class_= 'inactive').first.click()"
   ]
  },
  {
   "cell_type": "code",
   "execution_count": null,
   "metadata": {},
   "outputs": [],
   "source": []
  },
  {
   "cell_type": "code",
   "execution_count": null,
   "metadata": {},
   "outputs": [],
   "source": []
  },
  {
   "cell_type": "code",
   "execution_count": null,
   "metadata": {},
   "outputs": [],
   "source": []
  },
  {
   "cell_type": "code",
   "execution_count": null,
   "metadata": {},
   "outputs": [],
   "source": []
  }
 ],
 "metadata": {
  "kernelspec": {
   "display_name": "PythonData",
   "language": "python",
   "name": "pythondata"
  },
  "language_info": {
   "codemirror_mode": {
    "name": "ipython",
    "version": 3
   },
   "file_extension": ".py",
   "mimetype": "text/x-python",
   "name": "python",
   "nbconvert_exporter": "python",
   "pygments_lexer": "ipython3",
   "version": "3.6.10"
  }
 },
 "nbformat": 4,
 "nbformat_minor": 4
}
